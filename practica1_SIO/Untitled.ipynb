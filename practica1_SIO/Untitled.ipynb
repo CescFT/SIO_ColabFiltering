{
 "cells": [
  {
   "cell_type": "code",
   "execution_count": 5,
   "metadata": {},
   "outputs": [
    {
     "ename": "ModuleNotFoundError",
     "evalue": "No module named 'sklearn.cross_validation'",
     "output_type": "error",
     "traceback": [
      "\u001b[1;31m---------------------------------------------------------------------------\u001b[0m",
      "\u001b[1;31mModuleNotFoundError\u001b[0m                       Traceback (most recent call last)",
      "\u001b[1;32m<ipython-input-5-b77ddcb570e1>\u001b[0m in \u001b[0;36m<module>\u001b[1;34m\u001b[0m\n\u001b[0;32m      6\u001b[0m \u001b[1;32mfrom\u001b[0m \u001b[0mscipy\u001b[0m \u001b[1;32mimport\u001b[0m \u001b[0msparse\u001b[0m\u001b[1;33m\u001b[0m\u001b[1;33m\u001b[0m\u001b[0m\n\u001b[0;32m      7\u001b[0m \u001b[1;32mimport\u001b[0m \u001b[0msklearn\u001b[0m\u001b[1;33m.\u001b[0m\u001b[0mmetrics\u001b[0m\u001b[1;33m.\u001b[0m\u001b[0mpairwise\u001b[0m \u001b[1;32mas\u001b[0m \u001b[0mpw\u001b[0m\u001b[1;33m\u001b[0m\u001b[1;33m\u001b[0m\u001b[0m\n\u001b[1;32m----> 8\u001b[1;33m \u001b[1;32mfrom\u001b[0m \u001b[0msklearn\u001b[0m\u001b[1;33m.\u001b[0m\u001b[0mcross_validation\u001b[0m \u001b[1;32mimport\u001b[0m \u001b[0mtrain_test_split\u001b[0m\u001b[1;33m\u001b[0m\u001b[1;33m\u001b[0m\u001b[0m\n\u001b[0m\u001b[0;32m      9\u001b[0m \u001b[1;33m\u001b[0m\u001b[0m\n\u001b[0;32m     10\u001b[0m connection = psycopg2.connect(user=\"postgres\",\n",
      "\u001b[1;31mModuleNotFoundError\u001b[0m: No module named 'sklearn.cross_validation'"
     ]
    }
   ],
   "source": [
    "import pandas as pd\n",
    "import numpy as np\n",
    "from scipy.spatial.distance import squareform\n",
    "from scipy.spatial.distance import cosine\n",
    "import psycopg2\n",
    "from scipy import sparse\n",
    "import sklearn.metrics.pairwise as pw\n",
    "from sklearn.cross_validation import train_test_split\n",
    "\n",
    "connection = psycopg2.connect(user=\"postgres\",\n",
    "                              password=\"aleixDatabase\",\n",
    "                              host=\"localhost\",\n",
    "                              port=\"3306\",\n",
    "                              database=\"siodb\")\n",
    "\n",
    "cursor = connection.cursor()\n",
    "\n",
    "median_query = '''SELECT username, restaurant, rating FROM ratings'''\n",
    "\n",
    "cursor.execute(median_query)\n",
    "ratings = cursor.fetchall()\n",
    "\n",
    "all_ratings = pd.DataFrame(ratings, columns=['userID', 'restaurantID', 'rating'])\n",
    "all_ratings['index'] = all_ratings['userID'].copy()\n",
    "all_ratings.set_index('index', inplace = True)\n",
    "\n",
    "user_ratings = all_ratings.drop(['restaurantID'], axis=1)\n",
    "user_ratings = user_ratings.groupby('userID', as_index=False).mean()\n",
    "\n",
    "n_users = all_ratings.userID.unique().shape[0]\n",
    "n_users\n",
    "\n",
    "n_items = all_ratings.restaurantID.unique().shape[0]\n",
    "n_items\n",
    "\n",
    "filter_users = all_ratings['userID'].value_counts() > 90\n",
    "filter_users = filter_users[filter_users].index.tolist()\n",
    "\n",
    "filter_restaurants = all_ratings['restaurantID'].value_counts() > 68000\n",
    "filter_restaurants = filter_restaurants[filter_restaurants].index.tolist()\n",
    "\n",
    "user_ratings_pos = user_ratings[user_ratings['rating'] > 0].reset_index(drop = True)\n",
    "all_ratings_pos = all_ratings[all_ratings['userID'].isin(user_ratings_pos['userID'])]\n",
    "\n",
    "pivot_ratings = all_ratings_pos.pivot_table(index=['userID'], columns=['restaurantID'], values='rating')\n",
    "\n",
    "reduced_pivot = pivot_ratings.copy()\n",
    "\n",
    "nan_pivot = reduced_pivot.fillna(0)\n",
    "\n"
   ]
  },
  {
   "cell_type": "code",
   "execution_count": 4,
   "metadata": {},
   "outputs": [
    {
     "ename": "NameError",
     "evalue": "name 'train_test_split' is not defined",
     "output_type": "error",
     "traceback": [
      "\u001b[1;31m---------------------------------------------------------------------------\u001b[0m",
      "\u001b[1;31mNameError\u001b[0m                                 Traceback (most recent call last)",
      "\u001b[1;32m<ipython-input-4-94f45448b7ac>\u001b[0m in \u001b[0;36m<module>\u001b[1;34m\u001b[0m\n\u001b[1;32m----> 1\u001b[1;33m \u001b[0mtrainset\u001b[0m\u001b[1;33m,\u001b[0m \u001b[0mtestset\u001b[0m \u001b[1;33m=\u001b[0m \u001b[0mtrain_test_split\u001b[0m\u001b[1;33m(\u001b[0m\u001b[0mnan_pivot\u001b[0m\u001b[1;33m,\u001b[0m \u001b[0mtest_size\u001b[0m\u001b[1;33m=\u001b[0m\u001b[1;36m0.25\u001b[0m\u001b[1;33m)\u001b[0m\u001b[1;33m\u001b[0m\u001b[1;33m\u001b[0m\u001b[0m\n\u001b[0m\u001b[0;32m      2\u001b[0m \u001b[0mmatrix\u001b[0m \u001b[1;33m=\u001b[0m \u001b[0msparse\u001b[0m\u001b[1;33m.\u001b[0m\u001b[0mcsr_matrix\u001b[0m\u001b[1;33m(\u001b[0m\u001b[0mtrainset\u001b[0m\u001b[1;33m)\u001b[0m\u001b[1;33m\u001b[0m\u001b[1;33m\u001b[0m\u001b[0m\n\u001b[0;32m      3\u001b[0m \u001b[0mmatrix\u001b[0m\u001b[1;33m\u001b[0m\u001b[1;33m\u001b[0m\u001b[0m\n",
      "\u001b[1;31mNameError\u001b[0m: name 'train_test_split' is not defined"
     ]
    }
   ],
   "source": [
    "trainset, testset = train_test_split(nan_pivot, test_size=0.25)\n",
    "matrix = sparse.csr_matrix(trainset)\n",
    "matrix\n"
   ]
  },
  {
   "cell_type": "code",
   "execution_count": null,
   "metadata": {},
   "outputs": [],
   "source": [
    "sim_matrix = 1 - pw.cosine_distances(matrix)"
   ]
  }
 ],
 "metadata": {
  "kernelspec": {
   "display_name": "Python 3",
   "language": "python",
   "name": "python3"
  },
  "language_info": {
   "codemirror_mode": {
    "name": "ipython",
    "version": 3
   },
   "file_extension": ".py",
   "mimetype": "text/x-python",
   "name": "python",
   "nbconvert_exporter": "python",
   "pygments_lexer": "ipython3",
   "version": "3.7.7"
  }
 },
 "nbformat": 4,
 "nbformat_minor": 4
}
